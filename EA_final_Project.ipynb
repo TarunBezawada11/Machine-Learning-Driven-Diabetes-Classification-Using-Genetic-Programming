{
  "cells": [
    {
      "cell_type": "markdown",
      "metadata": {
        "id": "a3BTFPixeBmq"
      },
      "source": [
        "<div>\n",
        "<img src=\"https://www.ul.ie/themes/custom/ul/logo.jpg\" />\n",
        "</div>\n",
        "\n",
        "#**MSc in Artificial Intelligence and Machine Learning**\n",
        "##CS6271 - Evolutionary Algorithms and Humanoid Robotics 2024\n",
        "### Kaggle Competition\n",
        "\n",
        "\n",
        "Module Leader: Conor Ryan\n",
        "\n",
        "Developer: Allan De Lima\n",
        "\n",
        "Team Members: Dylan Rodrigues , Tarun Bezawada"
      ]
    },
    {
      "cell_type": "code",
      "execution_count": null,
      "metadata": {
        "colab": {
          "base_uri": "https://localhost:8080/"
        },
        "id": "4pvDAcm8UhEq",
        "outputId": "57afbc55-a249-4368-9720-2f427c9b5b64"
      },
      "outputs": [
        {
          "name": "stdout",
          "output_type": "stream",
          "text": [
            "Collecting deap\n",
            "  Downloading deap-1.4.1-cp310-cp310-manylinux_2_5_x86_64.manylinux1_x86_64.manylinux_2_17_x86_64.manylinux2014_x86_64.whl.metadata (13 kB)\n",
            "Requirement already satisfied: numpy in /usr/local/lib/python3.10/dist-packages (from deap) (1.26.4)\n",
            "Downloading deap-1.4.1-cp310-cp310-manylinux_2_5_x86_64.manylinux1_x86_64.manylinux_2_17_x86_64.manylinux2014_x86_64.whl (135 kB)\n",
            "\u001b[?25l   \u001b[90m━━━━━━━━━━━━━━━━━━━━━━━━━━━━━━━━━━━━━━━━\u001b[0m \u001b[32m0.0/135.4 kB\u001b[0m \u001b[31m?\u001b[0m eta \u001b[36m-:--:--\u001b[0m\r\u001b[2K   \u001b[90m━━━━━━━━━━━━━━━━━━━━━━━━━━━━━━━━━━━━━━━━\u001b[0m \u001b[32m135.4/135.4 kB\u001b[0m \u001b[31m6.8 MB/s\u001b[0m eta \u001b[36m0:00:00\u001b[0m\n",
            "\u001b[?25hInstalling collected packages: deap\n",
            "Successfully installed deap-1.4.1\n"
          ]
        }
      ],
      "source": [
        "!pip install deap"
      ]
    },
    {
      "cell_type": "markdown",
      "metadata": {
        "id": "RFfi2wUPYp2Z"
      },
      "source": [
        "# **Step-1  Import Required Libraries**"
      ]
    },
    {
      "cell_type": "code",
      "execution_count": null,
      "metadata": {
        "id": "nHPgAZ9kYktg"
      },
      "outputs": [],
      "source": [
        "import pandas as pd\n",
        "import numpy as np\n",
        "import operator\n",
        "import random\n",
        "from deap import base, creator, tools, gp, algorithms\n",
        "from sklearn.model_selection import train_test_split, StratifiedKFold\n",
        "from sklearn.metrics import accuracy_score\n",
        "from sklearn.preprocessing import StandardScaler, OneHotEncoder,LabelEncoder\n",
        "from multiprocessing import Pool"
      ]
    },
    {
      "cell_type": "markdown",
      "metadata": {
        "id": "D8m2OnGNZa6D"
      },
      "source": [
        "# **Step-2  Set Random Seed for Reproducibility**"
      ]
    },
    {
      "cell_type": "code",
      "execution_count": null,
      "metadata": {
        "id": "JStPhCuxZofL"
      },
      "outputs": [],
      "source": [
        "random.seed(42)\n",
        "np.random.seed(42)"
      ]
    },
    {
      "cell_type": "markdown",
      "metadata": {
        "id": "b02ghd7rZ5TC"
      },
      "source": [
        "# **Step-3 Load and Preprocess Dataset**"
      ]
    },
    {
      "cell_type": "code",
      "execution_count": null,
      "metadata": {
        "id": "CmZR865YZpN3"
      },
      "outputs": [],
      "source": [
        "# Load the dataset from a CSV file.\n",
        "train_data = pd.read_csv('train.csv')\n",
        "\n",
        "# Separate the dataset into features (X) and target (y).\n",
        "X = train_data.drop(columns=['output']).values\n",
        "y = train_data['output'].values\n",
        "\n",
        "# Standardize the feature data to have zero mean and unit variance.\n",
        "scaler = StandardScaler()\n",
        "X = scaler.fit_transform(X)\n",
        "\n",
        "# Split the standardized data into training (80%) and validation (20%) sets.\n",
        "# Stratified splitting ensures class distribution remains consistent in both sets.\n",
        "X_train, X_val, y_train, y_val = train_test_split(X, y, test_size=0.2, stratify=y, random_state=42)\n"
      ]
    },
    {
      "cell_type": "markdown",
      "metadata": {
        "id": "NnpjtpyTd16k"
      },
      "source": [
        "# **Step-4 Define Custom Operators for Genetic Programming**"
      ]
    },
    {
      "cell_type": "code",
      "execution_count": null,
      "metadata": {
        "id": "v0dZnrx-dbDm"
      },
      "outputs": [],
      "source": [
        "def safe_div(x, y):\n",
        "    \"\"\"\n",
        "    Safe division function to handle division by zero.\n",
        "    If the denominator 'y' is zero, it returns 0 to avoid an error.\n",
        "    \"\"\"\n",
        "    return x / y if y != 0 else 0\n",
        "\n",
        "def protected_log(x):\n",
        "    \"\"\"\n",
        "    Safe logarithm function to avoid taking log of non-positive numbers.\n",
        "    Returns log(x) if x is positive, otherwise returns 0.\n",
        "    \"\"\"\n",
        "    return np.log(x) if x > 0 else 0\n",
        "\n",
        "def protected_sqrt(x):\n",
        "    \"\"\"\n",
        "    Safe square root function to avoid taking the square root of negative numbers.\n",
        "    Returns sqrt(x) if x is non-negative, otherwise returns 0.\n",
        "    \"\"\"\n",
        "    return np.sqrt(x) if x >= 0 else 0\n",
        "\n",
        "def generate_random_constant():\n",
        "    \"\"\"\n",
        "    Generates a random constant between -1 and 1.\n",
        "    This is used as an ephemeral constant in the genetic programming tree.\n",
        "    \"\"\"\n",
        "    return random.uniform(-1, 1)"
      ]
    },
    {
      "cell_type": "markdown",
      "metadata": {
        "id": "R0JSbimHeRtJ"
      },
      "source": [
        "# **Step-5 Setup DEAP for Genetic Programming**"
      ]
    },
    {
      "cell_type": "code",
      "execution_count": null,
      "metadata": {
        "id": "D9MLGwGae9Pd"
      },
      "outputs": [],
      "source": [
        "# Define the fitness function to be maximized (accuracy in this case).\n",
        "creator.create(\"FitnessMax\", base.Fitness, weights=(1.0,))\n",
        "\n",
        "# Define an individual as a PrimitiveTree structure with the fitness defined above.\n",
        "creator.create(\"Individual\", gp.PrimitiveTree, fitness=creator.FitnessMax)\n",
        "\n",
        "# Create a Primitive Set, where each individual has a number of inputs equal to the number of features in X.\n",
        "pset = gp.PrimitiveSet(\"MAIN\", X.shape[1])\n",
        "\n",
        "# Add basic arithmetic operations and mathematical functions to the Primitive Set.\n",
        "pset.addPrimitive(operator.add, 2)       # Addition\n",
        "pset.addPrimitive(operator.sub, 2)       # Subtraction\n",
        "pset.addPrimitive(operator.mul, 2)       # Multiplication\n",
        "pset.addPrimitive(safe_div, 2)           # Division with error handling\n",
        "pset.addPrimitive(operator.neg, 1)       # Negation\n",
        "pset.addPrimitive(protected_log, 1)      # Logarithm with error handling\n",
        "pset.addPrimitive(protected_sqrt, 1)     # Square root with error handling\n",
        "pset.addPrimitive(np.sin, 1)             # Sine function\n",
        "pset.addPrimitive(np.cos, 1)             # Cosine function\n",
        "pset.addPrimitive(np.tan, 1)             # Tangent function\n",
        "pset.addEphemeralConstant(\"rand101\", generate_random_constant)  # Random constants between -1 and 1\n",
        "# Rename the input features to make them more interpretable in the expression trees.\n",
        "pset.renameArguments(**{f'ARG{i}': f'Feature_{i}' for i in range(X.shape[1])})\n"
      ]
    },
    {
      "cell_type": "markdown",
      "metadata": {
        "id": "UL1VII9mfKQE"
      },
      "source": [
        "# **Step-6 Define Toolbox for Genetic Operations**"
      ]
    },
    {
      "cell_type": "code",
      "execution_count": null,
      "metadata": {
        "id": "n4xRg1OGfQ7E"
      },
      "outputs": [],
      "source": [
        "# Initialize the toolbox which will contain genetic operators and helper functions.\n",
        "toolbox = base.Toolbox()\n",
        "\n",
        "# Define how to generate random expressions for initializing individuals.\n",
        "toolbox.register(\"expr\", gp.genHalfAndHalf, pset=pset, min_=1, max_=3)\n",
        "\n",
        "# Create an individual using the generated expression.\n",
        "toolbox.register(\"individual\", tools.initIterate, creator.Individual, toolbox.expr)\n",
        "\n",
        "# Create a population consisting of individuals.\n",
        "toolbox.register(\"population\", tools.initRepeat, list, toolbox.individual)\n",
        "\n",
        "# Compile the individuals to convert them into callable functions.\n",
        "toolbox.register(\"compile\", gp.compile, pset=pset)"
      ]
    },
    {
      "cell_type": "markdown",
      "metadata": {
        "id": "PTwfz1DDfYO6"
      },
      "source": [
        "# **Step-7 Define Fitness Function Using Cross-Validation**"
      ]
    },
    {
      "cell_type": "code",
      "execution_count": null,
      "metadata": {
        "id": "kSTdp_07fijc"
      },
      "outputs": [],
      "source": [
        "def eval_individual_cv(individual):\n",
        "    \"\"\"\n",
        "    Evaluate the individual's fitness using 5-fold cross-validation.\n",
        "    The function returns the mean accuracy score over all folds.\n",
        "    \"\"\"\n",
        "    # Compile the individual's expression tree into a callable function.\n",
        "    func = toolbox.compile(expr=individual)\n",
        "    skf = StratifiedKFold(n_splits=5)\n",
        "    accuracies = []\n",
        "\n",
        "    # Perform cross-validation to evaluate the accuracy.\n",
        "    for train_idx, val_idx in skf.split(X_train, y_train):\n",
        "        try:\n",
        "            # Generate predictions using the individual's function.\n",
        "            preds = [int(func(*X_train[i]) > 0) for i in train_idx]\n",
        "\n",
        "            # Calculate accuracy and store it.\n",
        "            acc = accuracy_score(y_train[train_idx], preds)\n",
        "            accuracies.append(acc)\n",
        "        except (OverflowError, ZeroDivisionError, TypeError):\n",
        "            # Handle any errors by assigning a score of 0.\n",
        "            accuracies.append(0)\n",
        "\n",
        "    # Return the mean accuracy over all folds.\n",
        "    return np.mean(accuracies),\n",
        "\n",
        "# Register evaluation, selection, mating, and mutation functions.\n",
        "toolbox.register(\"evaluate\", eval_individual_cv)\n",
        "toolbox.register(\"select\", tools.selTournament, tournsize=3)\n",
        "toolbox.register(\"mate\", gp.cxOnePoint)\n",
        "toolbox.register(\"expr_mut\", gp.genFull, min_=1, max_=2)\n",
        "toolbox.register(\"mutate\", gp.mutUniform, expr=toolbox.expr_mut, pset=pset)\n",
        "\n",
        "# Limit the height of individuals to prevent overfitting and excessive complexity.\n",
        "toolbox.decorate(\"mate\", gp.staticLimit(key=operator.attrgetter(\"height\"), max_value=10))\n",
        "toolbox.decorate(\"mutate\", gp.staticLimit(key=operator.attrgetter(\"height\"), max_value=10))"
      ]
    },
    {
      "cell_type": "code",
      "execution_count": null,
      "metadata": {
        "id": "mZKg63zW3nvc"
      },
      "outputs": [],
      "source": [
        "#Parallelize Evaluation\n",
        "# Use multiprocessing to speed up the evaluation of individuals.\n",
        "pool = Pool()\n",
        "toolbox.register(\"map\", pool.map)"
      ]
    },
    {
      "cell_type": "markdown",
      "metadata": {
        "id": "-ab6efZ4jilb"
      },
      "source": [
        "# **Step-8 Set Evolutionary Algorithm Parameters**"
      ]
    },
    {
      "cell_type": "code",
      "execution_count": null,
      "metadata": {
        "colab": {
          "background_save": true,
          "base_uri": "https://localhost:8080/"
        },
        "id": "qVVr2ru1jflp",
        "outputId": "bffa6d6c-2282-437b-8445-f74882916b1d"
      },
      "outputs": [
        {
          "name": "stdout",
          "output_type": "stream",
          "text": [
            "gen\tnevals\tavg     \tstd     \tmin     \tmax     \n",
            "0  \t750   \t0.505116\t0.120598\t0.316886\t0.698488\n",
            "1  \t1000  \t0.608797\t0.0719696\t0.356062\t0.698488\n",
            "2  \t1000  \t0.64632 \t0.0361601\t0.382841\t0.707166\n",
            "3  \t1000  \t0.66012 \t0.0230611\t0.447062\t0.707166\n",
            "4  \t1000  \t0.670927\t0.0183544\t0.54922 \t0.707166\n",
            "5  \t1000  \t0.677591\t0.0219972\t0.380361\t0.707166\n",
            "6  \t1000  \t0.682494\t0.0192937\t0.380361\t0.707166\n",
            "7  \t1000  \t0.687226\t0.0156343\t0.397719\t0.712869\n",
            "8  \t1000  \t0.68931 \t0.0176949\t0.386809\t0.722539\n",
            "9  \t1000  \t0.691597\t0.0156887\t0.484007\t0.722539\n",
            "10 \t1000  \t0.694604\t0.0121504\t0.614679\t0.722539\n",
            "11 \t1000  \t0.696369\t0.0143706\t0.540293\t0.722539\n",
            "12 \t1000  \t0.698058\t0.0133184\t0.558145\t0.722539\n",
            "13 \t1000  \t0.701787\t0.0117628\t0.63873 \t0.729234\n",
            "14 \t1000  \t0.704116\t0.0118206\t0.63873 \t0.729234\n",
            "15 \t1000  \t0.7073  \t0.0116384\t0.625589\t0.729234\n",
            "16 \t1000  \t0.70939 \t0.0179469\t0.381602\t0.733201\n",
            "17 \t1000  \t0.713915\t0.012325 \t0.542276\t0.737664\n",
            "18 \t1000  \t0.715773\t0.0122147\t0.612448\t0.737664\n",
            "19 \t1000  \t0.717099\t0.0122491\t0.643938\t0.737664\n",
            "20 \t1000  \t0.719862\t0.0104188\t0.630052\t0.737664\n",
            "21 \t1000  \t0.722067\t0.00808089\t0.656831\t0.73816 \n",
            "22 \t1000  \t0.72407 \t0.00910165\t0.643938\t0.73816 \n",
            "23 \t1000  \t0.725735\t0.00853214\t0.651376\t0.740888\n",
            "24 \t1000  \t0.727716\t0.00796259\t0.665262\t0.741136\n",
            "25 \t1000  \t0.728833\t0.00909668\t0.65088 \t0.741136\n",
            "26 \t1000  \t0.730847\t0.00786286\t0.683114\t0.74188 \n",
            "27 \t1000  \t0.733167\t0.00634981\t0.696752\t0.743863\n",
            "28 \t1000  \t0.733937\t0.00629171\t0.688321\t0.743863\n",
            "29 \t1000  \t0.735289\t0.00647284\t0.67518 \t0.745847\n",
            "30 \t1000  \t0.736546\t0.00612028\t0.6546  \t0.746342\n",
            "31 \t1000  \t0.737704\t0.00523668\t0.6546  \t0.746342\n",
            "32 \t1000  \t0.738448\t0.005031  \t0.671213\t0.746342\n",
            "33 \t1000  \t0.739595\t0.0036395 \t0.713365\t0.748326\n",
            "34 \t1000  \t0.740081\t0.00395827\t0.699727\t0.748326\n",
            "35 \t1000  \t0.740698\t0.00431654\t0.688321\t0.746342\n",
            "36 \t1000  \t0.74105 \t0.00369711\t0.713613\t0.746591\n",
            "37 \t1000  \t0.74144 \t0.00431568\t0.683114\t0.746591\n",
            "38 \t1000  \t0.741983\t0.00426057\t0.693776\t0.747582\n",
            "39 \t1000  \t0.742328\t0.00589009\t0.658815\t0.748822\n",
            "40 \t1000  \t0.742828\t0.00550354\t0.662038\t0.748822\n",
            "41 \t1000  \t0.743554\t0.00301286\t0.717828\t0.748822\n",
            "42 \t1000  \t0.744001\t0.00329521\t0.716588\t0.75031 \n",
            "43 \t1000  \t0.744375\t0.00334528\t0.712869\t0.75031 \n",
            "44 \t1000  \t0.744846\t0.00343781\t0.702455\t0.75031 \n",
            "45 \t1000  \t0.744957\t0.00372292\t0.715348\t0.75031 \n",
            "46 \t1000  \t0.745442\t0.00346282\t0.709893\t0.75031 \n",
            "47 \t1000  \t0.74581 \t0.00337925\t0.710389\t0.75031 \n",
            "48 \t1000  \t0.746265\t0.00325138\t0.707414\t0.751054\n",
            "49 \t1000  \t0.746722\t0.00267858\t0.712621\t0.751054\n",
            "50 \t1000  \t0.746898\t0.00305324\t0.710141\t0.751054\n",
            "\n",
            "Best Individual: safe_div(sub(add(Feature_6, add(add(Feature_18, add(add(add(Feature_6, Feature_1), Feature_13), Feature_6)), add(Feature_0, Feature_13))), cos(add(Feature_1, Feature_3))), protected_sqrt(add(add(sub(add(Feature_13, Feature_3), neg(Feature_1)), protected_log(mul(Feature_0, Feature_6))), Feature_3)))\n",
            "Validation Accuracy: 0.7581764122893955\n"
          ]
        }
      ],
      "source": [
        "# Create an initial population of individuals.\n",
        "population = toolbox.population(n=750)\n",
        "\n",
        "# Define a Hall of Fame to store the best individuals found during the evolution.\n",
        "hof = tools.HallOfFame(5)\n",
        "\n",
        "# Set up statistics to track during the evolution.\n",
        "stats = tools.Statistics(lambda ind: ind.fitness.values)\n",
        "stats.register(\"avg\", np.mean)\n",
        "stats.register(\"std\", np.std)\n",
        "stats.register(\"min\", np.min)\n",
        "stats.register(\"max\", np.max)\n",
        "\n",
        "# Run the evolutionary algorithm for a set number of generations.\n",
        "pop, log = algorithms.eaMuPlusLambda(\n",
        "    population, toolbox,\n",
        "    mu=700, lambda_=1000,\n",
        "    cxpb=0.6, mutpb=0.4,\n",
        "    ngen=50,\n",
        "    stats=stats, halloffame=hof, verbose=True\n",
        ")\n",
        "\n",
        "# Close the multiprocessing pool after the evolution is complete.\n",
        "pool.close()\n",
        "pool.join()\n",
        "\n",
        "# Compile and evaluate the best individual on the validation set.\n",
        "best_ind = hof[0]\n",
        "best_func = toolbox.compile(expr=best_ind)\n",
        "val_predictions = [int(best_func(*X_val[i]) > 0) for i in range(len(X_val))]\n",
        "accuracy = accuracy_score(y_val, val_predictions)\n",
        "# Print the best individual and its accuracy on the validation set.\n",
        "print(\"\\nBest Individual:\", best_ind)\n",
        "print(\"Validation Accuracy:\", accuracy)\n"
      ]
    },
    {
      "cell_type": "markdown",
      "source": [
        "# **To downlad the output into CSV**"
      ],
      "metadata": {
        "id": "xF6_poLX5VbE"
      }
    },
    {
      "cell_type": "code",
      "execution_count": null,
      "metadata": {
        "colab": {
          "base_uri": "https://localhost:8080/",
          "height": 17
        },
        "id": "KiRv2v4O7kNf",
        "outputId": "5b8352c8-58d2-4d3e-f14d-99335fdda24c"
      },
      "outputs": [
        {
          "output_type": "display_data",
          "data": {
            "text/plain": [
              "<IPython.core.display.Javascript object>"
            ],
            "application/javascript": [
              "\n",
              "    async function download(id, filename, size) {\n",
              "      if (!google.colab.kernel.accessAllowed) {\n",
              "        return;\n",
              "      }\n",
              "      const div = document.createElement('div');\n",
              "      const label = document.createElement('label');\n",
              "      label.textContent = `Downloading \"${filename}\": `;\n",
              "      div.appendChild(label);\n",
              "      const progress = document.createElement('progress');\n",
              "      progress.max = size;\n",
              "      div.appendChild(progress);\n",
              "      document.body.appendChild(div);\n",
              "\n",
              "      const buffers = [];\n",
              "      let downloaded = 0;\n",
              "\n",
              "      const channel = await google.colab.kernel.comms.open(id);\n",
              "      // Send a message to notify the kernel that we're ready.\n",
              "      channel.send({})\n",
              "\n",
              "      for await (const message of channel.messages) {\n",
              "        // Send a message to notify the kernel that we're ready.\n",
              "        channel.send({})\n",
              "        if (message.buffers) {\n",
              "          for (const buffer of message.buffers) {\n",
              "            buffers.push(buffer);\n",
              "            downloaded += buffer.byteLength;\n",
              "            progress.value = downloaded;\n",
              "          }\n",
              "        }\n",
              "      }\n",
              "      const blob = new Blob(buffers, {type: 'application/binary'});\n",
              "      const a = document.createElement('a');\n",
              "      a.href = window.URL.createObjectURL(blob);\n",
              "      a.download = filename;\n",
              "      div.appendChild(a);\n",
              "      a.click();\n",
              "      div.remove();\n",
              "    }\n",
              "  "
            ]
          },
          "metadata": {}
        },
        {
          "output_type": "display_data",
          "data": {
            "text/plain": [
              "<IPython.core.display.Javascript object>"
            ],
            "application/javascript": [
              "download(\"download_cb57fa7c-6a77-478c-8c96-209268dbc5ee\", \"submission.csv\", 755335)"
            ]
          },
          "metadata": {}
        }
      ],
      "source": [
        "\n",
        "# Load the test data\n",
        "test_data = pd.read_csv('test.csv')  # Replace 'test.csv' with the actual path\n",
        "\n",
        "# Preprocess the test data (same as the training data)\n",
        "X_test = test_data.values\n",
        "X_test = scaler.transform(X_test)  # Use the same scaler fitted on the training data\n",
        "\n",
        "# Apply the best individual to the test data\n",
        "best_ind = hof[0]\n",
        "best_func = toolbox.compile(expr=best_ind)\n",
        "test_predictions = [int(best_func(*X_test[i]) > 0) for i in range(len(X_test))]\n",
        "\n",
        "# Create a submission DataFrame\n",
        "submission_df = pd.DataFrame({'index': test_data.index, 'output': test_predictions})\n",
        "\n",
        "# Save to a CSV file\n",
        "submission_df.to_csv('submission.csv', index=False)\n",
        "\n",
        "# Download the file (Colab specific)\n",
        "from google.colab import files\n",
        "files.download('submission.csv')"
      ]
    },
    {
      "cell_type": "code",
      "execution_count": null,
      "metadata": {
        "colab": {
          "background_save": true
        },
        "id": "zr-Ymqod8b0s"
      },
      "outputs": [],
      "source": []
    }
  ],
  "metadata": {
    "colab": {
      "provenance": []
    },
    "kernelspec": {
      "display_name": "Python 3",
      "name": "python3"
    },
    "language_info": {
      "name": "python"
    }
  },
  "nbformat": 4,
  "nbformat_minor": 0
}